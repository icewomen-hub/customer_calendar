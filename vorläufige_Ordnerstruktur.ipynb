{
 "cells": [
  {
   "cell_type": "markdown",
   "metadata": {},
   "source": [
    "Unser Unternehmen  -->  Fitness Studio"
   ]
  },
  {
   "cell_type": "markdown",
   "metadata": {},
   "source": [
    "START\n",
    "- Terminkalender per klick aufrufen\n",
    "- Auswahl von Tag/Woche/Monat\n",
    "- Belegte Termine können nicht angeklickt werden\n",
    "- Zeitfenster (Anfang/Ende): frei wählbar oder vorgegeben, slots?, Serientermine\n",
    "- Mitteilungs-/Kommentarfeld\n",
    "- Nur buchbare Termine verfügbar machen (Warteliste). --> entscheiden welche \n",
    "                                                           Zeiträume unser Fitness Studio anbieten möchte\n",
    "\n",
    "\n",
    "Wird mit den buchbaren Terminen abgedeckt.\n",
    "- Feiertage (Darstellung)\n",
    "- Betriebsferien (Darstellung)\n",
    "\n",
    "nice to have\n",
    "- was passiert wenn der Kurs ausfällt (Mitteilung an Mitglied Email/Telefon?)\n"
   ]
  },
  {
   "cell_type": "markdown",
   "metadata": {},
   "source": [
    "Durchführung Buchung\n",
    "\n",
    "- Eingabefeld für Mitgliedsnummer (Systemüberprüfung)\n",
    "- Wie mit Nichtmitgliedern verfahren?\n",
    "- Terminübersicht für die einzelnen Kategorien\n",
    "\n",
    "nice to have\n",
    "- Wunschtrainer auswählbar"
   ]
  },
  {
   "cell_type": "markdown",
   "metadata": {},
   "source": [
    "Kategorienauswahl\n",
    "\n",
    "- Auswahl Anliegen (Auswahlfeld: Kategorie z.B. \n",
    "  Einzeltraining, Beratung: Ernährung, Fittness, \n",
    "  Personaltraining, \n",
    "  Gruppenkurse: Yoga, Spinning, Zumba, Pilates, \n",
    "  Geräte/Raumbuchung: Squash, Sauna, Wellnessraum, \n",
    "  Verwaltungstermine: Vertragsgespräche, Probetraining, Einführungstermine)\n",
    "\n",
    "der Umfang definiert das nice to have"
   ]
  },
  {
   "cell_type": "markdown",
   "metadata": {},
   "source": [
    "Buchungsende\n",
    "\n",
    "- Wenn der Termin gebucht (vom Mitglied bestätigt) ist, \n",
    "  - das Mitglied soll eine Email erhalten, in welcher der Termin bestätigt wird incl. Anamnesedaten Anforderung \n",
    "  - Termindetails (Kursindex, Kursraum, Zeit, Trainername)\n",
    "\n",
    "\n",
    "nice to have\n",
    "- und in der notiert ist, was er zum Termin mitbringen soll"
   ]
  },
  {
   "cell_type": "markdown",
   "metadata": {},
   "source": [
    "Ergänzungen\n",
    "\n",
    "- Buchungsstatus (Termin: bestätigt, abgesagt, Warteliste)\n",
    "\n",
    "nice to have (für versierte Internet Nutzer)\n",
    "- Zusätzliche Informationen (Mitglied kann eigene Anamnese Daten eingeben, geschützter Bereich,\n",
    "  auch mögliche ärztliche Dokumente)"
   ]
  },
  {
   "cell_type": "code",
   "execution_count": null,
   "metadata": {},
   "outputs": [],
   "source": [
    "# Projekt/\n",
    "# ├── main.py                # Startpunkt / Haupt-Skript\n",
    "# ├── src/                   # Quellcode\n",
    "# │   ├── __init__.py\n",
    "# │   ├── filter.py\n",
    "# │   └── utils.py\n",
    "# ├── data/                  # Rohdaten (Kundendaten)\n",
    "# │   └── {} customers.json/\n",
    "# ├── tests/                 # Testcode\n",
    "# │   ├── test_filter.py\n",
    "# │   └── test_utils.py\n",
    "# ├── requirements.txt       # Abhängigkeiten\n",
    "# └── README.md              # Dokumentation"
   ]
  }
 ],
 "metadata": {
  "kernelspec": {
   "display_name": "Python 3",
   "language": "python",
   "name": "python3"
  },
  "language_info": {
   "codemirror_mode": {
    "name": "ipython",
    "version": 3
   },
   "file_extension": ".py",
   "mimetype": "text/x-python",
   "name": "python",
   "nbconvert_exporter": "python",
   "pygments_lexer": "ipython3",
   "version": "3.13.1"
  }
 },
 "nbformat": 4,
 "nbformat_minor": 2
}
