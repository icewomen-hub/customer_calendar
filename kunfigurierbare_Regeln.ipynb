{
 "cells": [
  {
   "cell_type": "markdown",
   "metadata": {},
   "source": [
    "Einzeltermine: Ernährungsberatung, Mitgliederverwaltung, Einzelstunde, Probetraining\n",
    "Kurse: Yoga, Zumba, Physiotherapie, Massage\n",
    "Öffnungszeiten:     Montag bis Samstag \n",
    "                    Feiertag geschlossen\n",
    "                    interne Schließung\n",
    "                    Betriebsferien\n",
    "Uhrzeit:            08:00 bis 23:00 Uhrzeit\n",
    "Pause zwischen zwei Angeboten : 30 min\n",
    "Anzahl Angebot Einzelstunden : 10 staticmethod\n",
    "Anzahl Angebot Gruppenkurse : 36 Kurse\n",
    "Anzahl Teilnehmer pro Gruppenkurs : 20 \n",
    "Anzahl, wie oft jeder Kurs pro Woche angeboten wird\n",
    "An welchen Tagen werden die jeweiligen Angebote gemacht\n",
    "Zeitpunkt Storniermöglichkeit : bis max. 10 Std. vorher\n",
    "Terminerinnerung : 24 Std. zuvor, Email od. Whatsapp od. SMS?\n",
    "\n"
   ]
  }
 ],
 "metadata": {
  "language_info": {
   "name": "python"
  }
 },
 "nbformat": 4,
 "nbformat_minor": 2
}
