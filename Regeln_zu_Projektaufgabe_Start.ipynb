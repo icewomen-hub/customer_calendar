{
 "cells": [
  {
   "cell_type": "markdown",
   "metadata": {},
   "source": [
    "Regeln zum Terminbuchen\n",
    "\n",
    "Angebot\n",
    "- Arten von Terminmöglichkeiten (Ernährungsberatung, Mitgliederverwaltung, Einzelstunde, \n",
    "    Kurse: Yoga, Zumba, Physiotherapie, Massage)\n",
    "- Feiertage und Sonntag keine Termine\n",
    "- Öffnungszeiten: 08:00 bis 23:00\n",
    "- maximal 40 Termine pro Woche\n",
    "- plus 10 Einzeltermine (Ernährungsberatung, Mitgliederverwaltung, Einzelstunde, Physiotherapie, Massage)\n",
    "- Gruppentermine maximale Teilnehmerzahl je Kurs u. Termin 20 Personen \n",
    "    (Yoga z.B. 2x/Wo, Zumba z. B. 3x/Wo)\n",
    "- Möglichkeit der Ergänzung / Wegnahme von Kursangeboten\n",
    "\n",
    "durchführung Terminbuchung\n",
    "- beidseitige Storniermöglichkeit des Termins (bis max. 10 Std. vorher möglich)\n",
    "- Terminverschiebung/-änderung\n",
    "- Auswahlmöglichkeit für was ich den Termin buchen möchte\n",
    "- Benachrichtigung (Terminbestätigung, Absage, Warteliste)\n",
    "- Terminerinnerung (24 Std zuvor, Email od. Whatsapp od. SMS?)\n",
    "\n",
    "\n",
    "Workflow einer Terminbuchung\n",
    "\n"
   ]
  }
 ],
 "metadata": {
  "kernelspec": {
   "display_name": "Python 3",
   "language": "python",
   "name": "python3"
  },
  "language_info": {
   "name": "python",
   "version": "3.13.1"
  }
 },
 "nbformat": 4,
 "nbformat_minor": 2
}
