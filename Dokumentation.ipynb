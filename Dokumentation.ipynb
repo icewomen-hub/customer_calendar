{
 "cells": [
  {
   "cell_type": "markdown",
   "metadata": {},
   "source": [
    "# **<span style=\"color:green\">Dokumentation Terminkalender Fitness Studio</span>**"
   ]
  },
  {
   "cell_type": "markdown",
   "metadata": {},
   "source": [
    "## **<span style=\"color:green\">Ordnerstruktur</span>**"
   ]
  },
  {
   "cell_type": "markdown",
   "metadata": {},
   "source": [
    "<pre>\n",
    "├───data\n",
    "├───src\n",
    "│ ├───core\n",
    "│ │ └───__pycache__\n",
    "│ └───gui\n",
    "│ └───__pycache__\n",
    "├───tests\n",
    "└───tmp\n",
    "</pre>"
   ]
  },
  {
   "cell_type": "markdown",
   "metadata": {},
   "source": [
    "**data**  <br>\n",
    "Hinterlegte Datenquellen (csv Dateien und json)\n",
    "  <br>  <br>\n",
    "**src (scour)**  <br>\n",
    "python Quelltext Datein (Code)\n",
    "  <br>  <br>\n",
    "* core  <br>\n",
    "wiederverwendbare Dateien (zentralisierte, generische Funktionalitäten)\n",
    "  <br>  <br>\n",
    "* gui  <br>Anwenderfenster (je Rolle im Fitness Studio)"
   ]
  },
  {
   "cell_type": "markdown",
   "metadata": {},
   "source": [
    "**tests**  <br>\n",
    "automatisierte Tests\n",
    "<br>  <br>\n",
    "**tmp** (temporäre Dateien)  <br>\n",
    "Dateien für die Entwicklungsdauer/Test"
   ]
  },
  {
   "cell_type": "markdown",
   "metadata": {},
   "source": [
    "## **<span style=\"color:green\">Funktionalität der Dateien im data</span>**"
   ]
  },
  {
   "cell_type": "markdown",
   "metadata": {},
   "source": [
    "**CalenderLog.json**\n",
    "  <br>\n",
    "Hier sind alle Bewegungsdaten an Buchungen enthalten und werden fortgeschrieben.\n",
    "  <br>  <br>\n",
    "**customers_database.json**\n",
    "  <br>\n",
    "Hier sind die Kundenstammdaten enthalten.\n",
    "  <br>  <br>\n",
    "**kurs.csv**\n",
    "  <br> \n",
    "Kursstammdaten\n",
    "  <br>  <br>\n",
    "**time_slot.csv**\n",
    "  <br> \n",
    "Zeitstammdaten\n",
    "  <br>  <br>\n",
    "**trainer.csv**\n",
    "  <br> \n",
    "Trainerstammdaten\n",
    "  <br>  <br>\n",
    "**wochentag.csv**\n",
    "  <br> \n",
    "Wochentag Stammdaten"
   ]
  },
  {
   "cell_type": "markdown",
   "metadata": {},
   "source": [
    "## **<span style=\"color:green\">Funktionalität der Dateien im core</span>**"
   ]
  },
  {
   "cell_type": "markdown",
   "metadata": {},
   "source": [
    "**__init__.py**\n",
    "  <br>\n",
    "Die Datai ist leer und wird benötigt, um die Funktionalität aus anderen Dateien importieren zu können.\n",
    "  <br>  <br>\n",
    "**app.py**\n",
    "  <br>\n",
    "Enthält die Hauptanwendung.\n",
    "  <br>  <br>\n",
    "**config.py**\n",
    "  <br>\n",
    "Enthält die Configuration für die Anwendung.\n",
    "  <br>  <br>\n",
    "**data_provider.py**\n",
    "  <br>\n",
    "Hier sind alle im Hauptkalender vorhandenen Stammdaten enthalten. \n",
    "  <br>  <br>\n",
    "**customer_calender.py**\n",
    "  <br>\n",
    "Hier werden alle Bewegungsdaten verwaltet.\n",
    "  <br>  <br>\n",
    "**main.py**\n",
    "  <br>\n",
    "Ist die zentrale Ablauforganisationsdatei. (auflösen der Abhängigkeiten)"
   ]
  },
  {
   "cell_type": "markdown",
   "metadata": {},
   "source": [
    "## **<span style=\"color:green\">Funktionalität der Dateien im gui</span>**"
   ]
  },
  {
   "cell_type": "markdown",
   "metadata": {},
   "source": [
    "Hier sind alle Rollen von Anwendern des Fitnesskalenders mit ihren jeweiligen Berechtigungen hinterlegt."
   ]
  }
 ],
 "metadata": {
  "kernelspec": {
   "display_name": "Python 3",
   "language": "python",
   "name": "python3"
  },
  "language_info": {
   "name": "python",
   "version": "3.13.1"
  }
 },
 "nbformat": 4,
 "nbformat_minor": 2
}
