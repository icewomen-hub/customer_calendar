{
 "cells": [
  {
   "cell_type": "markdown",
   "id": "d8f4dbc7",
   "metadata": {},
   "source": [
    "### Start: customer_calendar/src/\n",
    "python.exe main.py\n",
    "\n",
    "\n",
    "### Login nach Rolle: \n",
    "admin\n",
    "guest\n",
    "staff (Mitarbeiter)\n",
    "member(Mitglied)\n",
    "\n"
   ]
  },
  {
   "cell_type": "markdown",
   "id": "ebfe4481",
   "metadata": {},
   "source": [
    "```mermaid\n",
    "sequenceDiagram\n",
    "    actor A[src/main.py]\n",
    "    actor B[src/gui/app.py]\n",
    "    A->>B: (role)\n",
    "    B->>A: show GUI\n",
    "\n",
    "\n",
    "````\n"
   ]
  },
  {
   "cell_type": "markdown",
   "id": "920f4d15",
   "metadata": {},
   "source": []
  },
  {
   "cell_type": "code",
   "execution_count": null,
   "id": "4f4e6834",
   "metadata": {
    "vscode": {
     "languageId": "plaintext"
    }
   },
   "outputs": [],
   "source": []
  }
 ],
 "metadata": {
  "language_info": {
   "name": "python"
  }
 },
 "nbformat": 4,
 "nbformat_minor": 5
}
