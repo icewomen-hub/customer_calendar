{
 "cells": [
  {
   "cell_type": "markdown",
   "id": "d8f4dbc7",
   "metadata": {},
   "source": [
    "### Start: customer_calendar/src/\n",
    "python.exe main.py\n",
    "\n",
    "\n",
    "### Login nach Rolle: \n",
    "- admin\n",
    "- guest\n",
    "- staff (Mitarbeiter)\n",
    "- member(Mitglied)\n",
    "\n"
   ]
  },
  {
   "cell_type": "markdown",
   "id": "ebfe4481",
   "metadata": {},
   "source": [
    "## Benötigte Dateien (19.3.2025 - 10:26)\n"
   ]
  },
  {
   "cell_type": "markdown",
   "id": "920f4d15",
   "metadata": {},
   "source": [
    "<pre>\n",
    "├── core\n",
    "│   ├── __init__.py\n",
    "│   ├── customer_calendar.py\n",
    "    ├── customers.py\n",
    "│   ├── data_provider.py\n",
    "├── gui\n",
    "│   ├── __init__.py\n",
    "│   ├── app.py\n",
    "│   ├── config.py\n",
    "│   ├── login.py\n",
    "├── main.py\n",
    "</pre>"
   ]
  },
  {
   "cell_type": "markdown",
   "id": "2e07bfdb",
   "metadata": {},
   "source": []
  },
  {
   "cell_type": "code",
   "execution_count": null,
   "id": "4f4e6834",
   "metadata": {
    "vscode": {
     "languageId": "plaintext"
    }
   },
   "outputs": [],
   "source": []
  }
 ],
 "metadata": {
  "language_info": {
   "name": "python"
  }
 },
 "nbformat": 4,
 "nbformat_minor": 5
}
