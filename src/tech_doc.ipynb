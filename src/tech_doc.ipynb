{
 "cells": [
  {
   "cell_type": "markdown",
   "id": "5d766efb",
   "metadata": {},
   "source": [
    "## Anwendung Sequenzdiagramm Anmeldung\n",
    "```mermaid\n",
    "sequenceDiagram\n",
    "    Rolle->>App: Start # Start der Applikation\n",
    "    App->>Rolle: Bitte Login\n",
    "    Rolle->>App: login(username, password)\n",
    "    create participant Auth\n",
    "    App->>Auth: (username, password)\n",
    "    Auth->>App: ok\n",
    "    destroy Auth\n",
    "    App-xAuth: end()\n",
    "    App->>Rolle: Rollenbasierte GUI-Ansicht\n",
    "    \n",
    "```"
   ]
  },
  {
   "cell_type": "markdown",
   "id": "dbc53a1c",
   "metadata": {
    "vscode": {
     "languageId": "raw"
    }
   },
   "source": [
    "## Start der Applikation\n",
    "\n",
    "In Verzeichnis: <code>customer_calendar/src</code>\n",
    "\n",
    "<kbd>python3 main.py</kbd>"
   ]
  },
  {
   "cell_type": "markdown",
   "id": "f2bd4266",
   "metadata": {
    "vscode": {
     "languageId": "html"
    }
   },
   "source": [
    "## Beispiel Buchung"
   ]
  },
  {
   "cell_type": "markdown",
   "id": "1bd18967",
   "metadata": {
    "vscode": {
     "languageId": "raw"
    }
   },
   "source": [
    "```mermaid\n",
    "erDiagram\n",
    "MEMBER ||--o{ Buchung: \"beantragt\"\n",
    "    MEMBER {\n",
    "        int member_id\n",
    "    }\n",
    "    Buchung ||--|{ Buchungs-Items:  \"besteht aus\"\n",
    "    Buchung {\n",
    "        int book_id\n",
    "    }\n",
    "    Buchungs-Items  {\n",
    "        datettime start\n",
    "        datettime end\n",
    "        int member_id\n",
    "        int course_id\n",
    "        flag status\n",
    "    }\n",
    "\n",
    "```"
   ]
  },
  {
   "cell_type": "markdown",
   "id": "caee7dc8",
   "metadata": {},
   "source": [
    "main-py ->\n",
    "```mermaid\n",
    "classDiagram\n",
    "\n",
    " \n",
    "    \n",
    "    class Main{\n",
    "        # dispatch\n",
    "    }\n",
    "\n",
    "    class Login{\n",
    "        + __init__(self, root, app)\n",
    "        + login(self)\n",
    "        + show_mask(self)\n",
    "    }\n",
    "\n",
    "    class App{\n",
    "        + __init__(self, root)\n",
    "        + set_role(self, role_name='guest')\n",
    "        + run(self)\n",
    "        + dispatch_role(self, role_name='guest')\n",
    "        + admin(self)\n",
    "        + guest(self)\n",
    "        + staff(self)\n",
    "        + member(self)\n",
    "        + menu(self)\n",
    "        + debug(self)\n",
    "        + workbench(self)\n",
    "   }\n",
    "\n",
    "    class DataProvider{\n",
    "        + __init__(self)\n",
    "        + course_list(self)\n",
    "        + trainer_list(self)\n",
    "        + weekday_list(self)\n",
    "        + time_slot_per_day(self, day)\n",
    "        + time_slots_per_course(self, course)\n",
    "        + save(self, topic='course')\n",
    "        + stop(self, msg)\n",
    "    }\n",
    "\n",
    "    class Customers{\n",
    "        + __init__(self)\n",
    "        + edit(self, id, mode)\n",
    "        + new(self, data)\n",
    "        + delete(self, data)\n",
    "        + save()\n",
    "    }\n",
    "\n",
    "   class CustomerCalendar{\n",
    "        + __init__(self)\n",
    "        + save(self)\n",
    "        + book(self, ...)\n",
    "        + edit(self, line)\n",
    "        ...\n",
    "   }\n",
    "\n",
    "    Main --|> App\n",
    "    Main  --|> Login\n",
    "\n",
    "    App  --|> CustomerCalendar\n",
    "    App  --|> Customers\n",
    "    App  --|> DataProvider\n",
    "\n",
    "```"
   ]
  },
  {
   "cell_type": "markdown",
   "id": "14a38ced",
   "metadata": {},
   "source": [
    "# Dummy text"
   ]
  }
 ],
 "metadata": {
  "language_info": {
   "name": "python"
  }
 },
 "nbformat": 4,
 "nbformat_minor": 5
}
