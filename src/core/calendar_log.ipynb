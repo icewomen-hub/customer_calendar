{
 "cells": [
  {
   "cell_type": "code",
   "execution_count": 3,
   "metadata": {},
   "outputs": [
    {
     "data": {
      "text/plain": [
       "{'ticket_nr': 1,\n",
       " 'start': '2025-03-13 14:00:00',\n",
       " 'end': '2025-03-13 15:00:00',\n",
       " 'app_type_id': 4711,\n",
       " 'member_id': 123,\n",
       " 'status': 'active',\n",
       " 'created_at': '2025-03-10 10:00:00',\n",
       " 'updated_at': '2025-03-12 09:00:00',\n",
       " 'deleted_at': None,\n",
       " 'comment': 'This is a comment',\n",
       " 'add_info': {'key1': 'value1', 'key2': 'value2'}}"
      ]
     },
     "execution_count": 3,
     "metadata": {},
     "output_type": "execute_result"
    }
   ],
   "source": [
    "entry = {\n",
    "    \"ticket_nr\" : 1,\n",
    "    \"start\" : \"2025-03-13 14:00:00\",\n",
    "    \"end\" : \"2025-03-13 15:00:00\",\n",
    "    \"app_type_id\" : 4711,\n",
    "    \"member_id\" : 123,\n",
    "    \"status\" : \"active\",\n",
    "    \"created_at\" : \"2025-03-10 10:00:00\",\n",
    "    \"updated_at\" : \"2025-03-12 09:00:00\",\n",
    "    \"deleted_at\" : None,\n",
    "    \"comment\" : \"This is a comment\",\n",
    "    \"add_info\" : {\n",
    "        \"key1\" : \"value1\",\n",
    "        \"key2\" : \"value2\"\n",
    "    }\n",
    "\n",
    "}\n",
    "entry\n"
   ]
  }
 ],
 "metadata": {
  "kernelspec": {
   "display_name": "Python 3",
   "language": "python",
   "name": "python3"
  },
  "language_info": {
   "codemirror_mode": {
    "name": "ipython",
    "version": 3
   },
   "file_extension": ".py",
   "mimetype": "text/x-python",
   "name": "python",
   "nbconvert_exporter": "python",
   "pygments_lexer": "ipython3",
   "version": "3.13.1"
  }
 },
 "nbformat": 4,
 "nbformat_minor": 2
}
