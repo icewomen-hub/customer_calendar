{
 "cells": [
  {
   "cell_type": "code",
   "execution_count": 5,
   "metadata": {},
   "outputs": [
    {
     "name": "stdout",
     "output_type": "stream",
     "text": [
      "0\n",
      "   id               start  end  app_typ_id  member_id     status comment  \\\n",
      "0 NaN  13-03-202514:00:12  NaN        4711         23  beantragt    blaa   \n",
      "\n",
      "  add_info  \n",
      "0     None  \n"
     ]
    }
   ],
   "source": [
    "import pandas as pd\n",
    "\n",
    "\"\"\" start (dt) , Ende (dt) ID(kurs/Termin) , ID(Mitglied) , Status , Kommentar , Zusatzinfo\n",
    "      start                          Ende\n",
    "dt : '13-03-2025' '14:00:12' , '13-03-2025 '14:45:00'\n",
    "\n",
    "\n",
    " \"\"\"\n",
    "#Mitglieder (firstname,.....Email)\n",
    "class Calendarlog:\n",
    "     pass\n",
    "entry={\n",
    "     \n",
    "     'start': '13-03-2025' '14:00:12' ,\n",
    "     'Ende' : '13-03-2025' '14:45:00' ,\n",
    "     'app_typ_id' : 4711 ,\n",
    "     'member_id' : 23 ,\n",
    "     'status' : 'beantragt' ,\n",
    "     'comment' : 'blaa' ,\n",
    "     'add_info' : None\n",
    "}\n",
    "cols=['id','start','end','app_typ_id','member_id','status','comment','add_info']\n",
    "db=pd.DataFrame(columns=cols)\n",
    "print(len(db))\n",
    "\n",
    "db.loc[len(db)]= entry\n",
    "print(db)\n",
    "\n",
    "db.to_json(\"../../data/Kalenderlog.json\")\n"
   ]
  }
 ],
 "metadata": {
  "kernelspec": {
   "display_name": "base",
   "language": "python",
   "name": "python3"
  },
  "language_info": {
   "codemirror_mode": {
    "name": "ipython",
    "version": 3
   },
   "file_extension": ".py",
   "mimetype": "text/x-python",
   "name": "python",
   "nbconvert_exporter": "python",
   "pygments_lexer": "ipython3",
   "version": "3.11.4"
  }
 },
 "nbformat": 4,
 "nbformat_minor": 2
}
