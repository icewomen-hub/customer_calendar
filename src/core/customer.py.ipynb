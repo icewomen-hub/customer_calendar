{
 "cells": [
  {
   "cell_type": "code",
   "execution_count": null,
   "metadata": {},
   "outputs": [
    {
     "name": "stdout",
     "output_type": "stream",
     "text": [
      "Empty DataFrame\n",
      "Columns: [id, start, end, app_typ_id, member_id, status, comment, add_info]\n",
      "Index: []\n"
     ]
    }
   ],
   "source": [
    "import pandas as pd\n",
    "class Customer:      # Zweck der Klasse: Sie muss immer alle Kundendaten lesen können\n",
    "    data = None     # steht nur zur Information, dass es ein Attribut data gibt.\n",
    "    def __init__(self, file = \"../../data/kalenderlog.json\"):  # darum dies Methoden Anwendung: __xy__ sind dunder\n",
    "                                                               # (magische) Methoden\n",
    "        self.data = pd.read_json(file)      # generische Pfadangabe. In der Variablen MUSS ein Pfad angegeben werden.\n",
    "                                            # self steht auch hier, für die Eindeutigkeit (aktuelles Objekt)\n",
    "                                            # welche Daten der Code verarbeitet und stellt somit auch die Verbindung\n",
    "                                          \n",
    "    def append(self,entry:dict):\n",
    "        self.data.loc[len(self.data)] = entry\n",
    "        pass                                        # von den Daten zur angewandten Methode dar.\n",
    "    def filter_eq(self, key, value):               # eq = equiel, prüft auf Gleichheit\n",
    "        return self.data[self.data[key] == value]\n",
    "    def filter_between(self, key, frm, until):\n",
    "        return self.data[\n",
    "            (self.data[key] >= frm)      # der erste Ausdruck soll TRUE sein\n",
    "            &                            # Operator um die Bedingungen zu verbinden\n",
    "            (self.data[key] <= until)    # der zweite Ausdruck soll TRUE sein\n",
    "        ]\n",
    "kunde = Customer()          # existiert nur weil wir dt/engl unterwegs sind\n",
    "# a1 = kunde.filter_eq(\"first_name\", \"Bob\")\n",
    "spanne = kunde.filter_between(\"id\", 55, 66)\n",
    "print(spanne)\n",
    "\n",
    "\n",
    "\n",
    "def show(self):\n",
    "    print(self.data)\n",
    "\n",
    "new_entry= {\n",
    "        'id:' 2 ,\n",
    "        'start:' \n",
    "        'end:'\n",
    "        'app_typ_id:'\n",
    "        'member_id:'\n",
    "        'status:' 'beantragt',\n",
    "        'comment:' 'blaa' ,\n",
    "        'add_info:' None\n",
    "\n",
    "}\n",
    "\n",
    "cal.append(new_entry)\n",
    "cal.show()\n",
    "\n",
    "cal=calenderlog()\n"
   ]
  }
 ],
 "metadata": {
  "kernelspec": {
   "display_name": "base",
   "language": "python",
   "name": "python3"
  },
  "language_info": {
   "codemirror_mode": {
    "name": "ipython",
    "version": 3
   },
   "file_extension": ".py",
   "mimetype": "text/x-python",
   "name": "python",
   "nbconvert_exporter": "python",
   "pygments_lexer": "ipython3",
   "version": "3.11.4"
  }
 },
 "nbformat": 4,
 "nbformat_minor": 2
}
