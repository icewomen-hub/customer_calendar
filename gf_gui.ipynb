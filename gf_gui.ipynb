{
 "cells": [
  {
   "cell_type": "markdown",
   "metadata": {},
   "source": [
    "## Pseudocode Fenster (GUI)\n",
    "\n"
   ]
  },
  {
   "cell_type": "markdown",
   "metadata": {},
   "source": [
    "- Fenster generieren\n",
    "- Welche Buttons werden gebraucht?\n",
    "- weitere interaktive Elemente (z.B. drop down, Suche)\n",
    "- den Kalender (Tabelle)\n",
    "\n"
   ]
  }
 ],
 "metadata": {
  "language_info": {
   "name": "python"
  }
 },
 "nbformat": 4,
 "nbformat_minor": 2
}
