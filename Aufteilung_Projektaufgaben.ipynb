{
 "cells": [
  {
   "cell_type": "markdown",
   "metadata": {},
   "source": [
    "Aufgabe: Erstellung einer README-Datei für das Projekt\n",
    "\n",
    "Diskussion in der Gruppe: Besprecht euch in eurer Gruppe, um die Möglichkeiten und Hinweise aus der Jupyter Notebook-Datei zu Praxisprojekten in Python und zur allgemeinen Strukturierung von Projekten zu analysieren.\n",
    "<br>\n",
    "Nr. 4 fällt raus weil wir kein KI Projekt durchführen.\n",
    "Nr. 1 fällt raus weil es wirklich nur für einen sehr kleinen Code gedacht ist.\n",
    "\n",
    "Entscheidung zwischen 2 und 3 \n",
    "Beide bedienen alle wesentlichen Strukturen.\n",
    "Wir haben uns für die Projektstruktur Nr. 3 entschieden, weil sie der Nr. 2 im wesentlichen gleicht. Zusätzlich hat sie den README Ordner und den data Ordner, den wir für unsere externe Kundendatenbank benzutzen werden.\n",
    "<br>\n",
    "<br>\n",
    "<br>\n",
    "<br>\n",
    "<br>\n",
    "Entwurf einer Ordnerstruktur: Entwerft gemeinsam eine vorläufige Ordnerstruktur, die speziell auf euer Projekt zugeschnitten ist. Diese Struktur sollte logisch aufgebaut sein und die Organisation des Projekts widerspiegeln.\n",
    "<br>\n",
    "siehe zweite Datei \"vorläufige_Ordnerstruktur\"\n",
    "<br>\n",
    "C:.<br>\n",
    "├───data <br>\n",
    "├───src<br>\n",
    "└───tests<br>\n",
    "<br>\n",
    "<br>\n",
    "<br>\n",
    "<br>\n",
    "<br>\n",
    "Erstellung einer README.txt: Erstellt eine README.txt-Datei, die folgendes enthält:\n",
    "<br>\n",
    "Eine kurze Beschreibung des Projekts.\n",
    "Die vorläufige Ordnerstruktur mit Erläuterungen zu den einzelnen Verzeichnissen und deren Inhalten.\n",
    "Hinweise darauf, was eine außenstehende Person über das Projekt wissen sollte, um eine sofortige Übersicht zu erhalten.<br>\n",
    "Die vorläufige Ordnerstruktur wird in einem extra file hochgeladen.\n",
    "<br>\n",
    "Upload der README.txt: Nach der Fertigstellung ladet ihr die README.txt-Datei hier als eure Projektarbeit hoch.\n",
    "Ist bereits in der Projektordner Struktur gespeichert."
   ]
  },
  {
   "cell_type": "markdown",
   "metadata": {},
   "source": []
  }
 ],
 "metadata": {
  "kernelspec": {
   "display_name": "Python 3",
   "language": "python",
   "name": "python3"
  },
  "language_info": {
   "codemirror_mode": {
    "name": "ipython",
    "version": 3
   },
   "file_extension": ".py",
   "mimetype": "text/x-python",
   "name": "python",
   "nbconvert_exporter": "python",
   "pygments_lexer": "ipython3",
   "version": "3.13.1"
  }
 },
 "nbformat": 4,
 "nbformat_minor": 2
}
