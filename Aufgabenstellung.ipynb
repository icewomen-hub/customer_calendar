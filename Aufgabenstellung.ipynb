{
 "cells": [
  {
   "cell_type": "markdown",
   "metadata": {},
   "source": [
    "Aufgabe:\n",
    "\n",
    "Wir erstellen einen Kundenkalender mit Bezug auf eine Kundendatei und die Kunden sollen selbständig Termine buchen können."
   ]
  },
  {
   "cell_type": "markdown",
   "metadata": {},
   "source": [
    "Was ist vorbereitend zu tun:\n",
    "\n",
    "- Gruppe in slack einrichten / erledigt\n",
    "- GitHub Gruppe einrichten\n",
    "- eine Kundendatenbank online finden zum testen (https://www.mockaroo.com/), über Pyhton Name,Vorname, Email ergänzen\n"
   ]
  },
  {
   "cell_type": "markdown",
   "metadata": {},
   "source": [
    "Welche Bibliotheken werden wir möglicherweise brauchen?\n",
    "\n",
    "pandas, \n",
    "daytime, \n",
    "python kalender, \n",
    "numphy, \n",
    "tkinter"
   ]
  },
  {
   "cell_type": "markdown",
   "metadata": {},
   "source": [
    "Wie soll die Oberfläche am Ende aussehen?\n",
    "\n",
    "- GUI (tkinter)\n",
    "- web Anwendung\n"
   ]
  },
  {
   "cell_type": "markdown",
   "metadata": {},
   "source": [
    "Wie wollen wir zusammen arbeiten?\n",
    "\n",
    "- nicht zu lange warten, wenn ein Problem da ist und die Teammitglieder um Unterstützung bitten\n",
    "- Wir wollen zu Beginn das Projekt in Einzelaufgaben zerlegen und diese verteilen\n",
    "- jedes Teammitglied arbeitet die Aufgabe in seiner arbeitsweise ab wie er möchte (Stichwort \"Pseudocode\")\n",
    "- wir sind hilfsbereit zueinander"
   ]
  },
  {
   "cell_type": "markdown",
   "metadata": {},
   "source": [
    "Welche Aufgaben wird es geben?\n",
    "\n",
    "- möglicherweise  externe Dokumentation erstellen (README.txt und requirements.txt)\n",
    "- functions.py file anlegen (praktisch)\n",
    "- diese files können dann auch importiert werden: from functions import ...\n",
    "- Präsentation zu beginn nach Aufgabenermittlung und -Verteilung vorbereitend erstellen\n",
    "- Zeitplan erstellen anhand der entstandenen Aufgaben\n",
    "\n"
   ]
  },
  {
   "cell_type": "markdown",
   "metadata": {},
   "source": [
    "Was ist wichtig für die Neuerstellung diese Programms?\n",
    "\n",
    "- Wer mag: Parallel Test zu den Codes mit einbauen während der Erstellung, \n",
    "  um festzustellen, ob wir unseren Code auch nicht zerschießen. \n",
    "  Damit sparen wir uns Arbeit und müssen immer nur kleinere Abschnitte prüfen, wo ggf. der Fehler liegt.\n",
    "  erforderlich: pip install pytest im Terminal, Befehl lautet .assert()"
   ]
  },
  {
   "cell_type": "markdown",
   "metadata": {},
   "source": [
    "Was wollen wir in unserem Endprodukt alles haben?\n",
    "\n",
    "- benutzerfreundliche Oberfläche\n",
    "- eine externe und/oder Code bezogene Dokumentation (Abhängigkeit der Verfügbaren Zeit)\n",
    "- intuitiv bedienbar für den Kunden und einfach\n",
    "- Schnelligkeit des Programms / performance"
   ]
  },
  {
   "cell_type": "code",
   "execution_count": null,
   "metadata": {},
   "outputs": [],
   "source": []
  }
 ],
 "metadata": {
  "kernelspec": {
   "display_name": "Python 3",
   "language": "python",
   "name": "python3"
  },
  "language_info": {
   "codemirror_mode": {
    "name": "ipython",
    "version": 3
   },
   "file_extension": ".py",
   "mimetype": "text/x-python",
   "name": "python",
   "nbconvert_exporter": "python",
   "pygments_lexer": "ipython3",
   "version": "3.13.1"
  }
 },
 "nbformat": 4,
 "nbformat_minor": 2
}
