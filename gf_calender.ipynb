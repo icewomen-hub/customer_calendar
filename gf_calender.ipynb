{
 "cells": [
  {
   "cell_type": "markdown",
   "metadata": {},
   "source": [
    "## Kalenderfunktionalitäten\n",
    "### (in Verbindung mit dem Kursangebot und den Zeiten)"
   ]
  },
  {
   "cell_type": "markdown",
   "metadata": {},
   "source": [
    "- Liste Kursangebote (Struktur: ID, Titel, Start/Ende (datetime), Angebotsbeschreibung)\n",
    "- Liste Einzeltermin Angebote (Struktur: ID, Titel, Start/Ende (datetime), Angebotsbeschreibung)\n",
    "- Suchfeld (generell technisch nach allem möglich)\n"
   ]
  },
  {
   "cell_type": "markdown",
   "metadata": {},
   "source": [
    "### kombinierte Abfragen"
   ]
  },
  {
   "cell_type": "markdown",
   "metadata": {},
   "source": [
    "- Liste mit: Kurstitel, datum, uhrzeit (soll ausgegeben werden)\n",
    "- ID, Start/Ende (datetime), was muss übergeben werden\n",
    "- Auswertung gebuchte Angebote etc."
   ]
  }
 ],
 "metadata": {
  "language_info": {
   "name": "python"
  }
 },
 "nbformat": 4,
 "nbformat_minor": 2
}
