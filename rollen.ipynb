{
 "cells": [
  {
   "cell_type": "markdown",
   "metadata": {},
   "source": [
    "Innerhalb der Rollen (Mitglied, Gast, Admin, Mitarbeiter) sind die Funktionalitäten festgehalten."
   ]
  },
  {
   "cell_type": "markdown",
   "metadata": {},
   "source": [
    "mitglied\n",
    "\n",
    "- nach einloggen fenster mit Kalender sichtbar\n",
    "- ansicht: monat, woche, quartal\n",
    "- kursauswahl\n",
    "- zeitauswahl\n",
    "- trainerauswahl\n",
    "- abruf Mitgliedskonto: gebuchte Termine bearbeiten\n",
    "- abruf Stammdaten: Änderungen vornehmen\n"
   ]
  },
  {
   "cell_type": "markdown",
   "metadata": {},
   "source": [
    "mitarbeiter fitness-studio\n",
    "\n",
    "- nach einloggen fenster mit Kalender sichtbar\n",
    "- ansicht: monat, woche, quartal\n",
    "- Suche (Mitglied, Gast, Terminarten, Kurskategorien...) - Reihenfolge der Suche\n",
    "- Termin stornieren (mit Kommentarfeld)\n",
    "- Stammdatenpflege\n",
    "- Angebotspflege"
   ]
  },
  {
   "cell_type": "markdown",
   "metadata": {},
   "source": [
    "gast\n",
    "\n",
    "- fenster mit Kalender sichtbar\n",
    "- zugang als Gast (entspricht eingeschränkter Buchungsmöglichkeit)\n",
    "- ansicht: monat, woche, quartal\n",
    "- (eingeschränkte kursauswahl als Probetraining)\n",
    "- kursbeschreibung\n",
    "- zeitauswahl\n",
    "- trainerauswahl\n",
    "- Option -> als Mitglied registrieren"
   ]
  },
  {
   "cell_type": "markdown",
   "metadata": {},
   "source": [
    "admin\n",
    "\n",
    "- zugang zu allem"
   ]
  },
  {
   "cell_type": "markdown",
   "metadata": {},
   "source": [
    "Code Aufgaben (generische funktionalitäten)\n",
    "\n",
    "- Fenster (GUI)\n",
    "- Kalenderfunktionalitäten (in Verbindung mit dem Kursangebot und den Zeiten)\n",
    "- Stammdaten\n",
    "\n"
   ]
  }
 ],
 "metadata": {
  "language_info": {
   "name": "python"
  }
 },
 "nbformat": 4,
 "nbformat_minor": 2
}
