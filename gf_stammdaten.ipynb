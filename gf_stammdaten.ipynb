{
 "cells": [
  {
   "cell_type": "markdown",
   "metadata": {},
   "source": [
    "## Pseudocode Stammdaten\n",
    "\n",
    "definition von\n",
    "Vorname\n",
    "Nachname\n",
    "... (Stammdaten: siehe Daten download)\n",
    "\n",
    "### Was brauchen wir um diese Dinge anzulegen/zu coden?\n",
    "\n",
    "- Kundenliste (gefiltert z.B. nach PLZ)\n",
    "- Suche nach z.B. einzelenes Mitglied\n",
    "- neu anlegen von Datensätzen (Mitgliedern)\n",
    "- ändern bestehender Datensätze\n",
    "- löschen bestehener Datensätze\n",
    "\n",
    "\n",
    "\n"
   ]
  },
  {
   "cell_type": "code",
   "execution_count": 6,
   "metadata": {},
   "outputs": [
    {
     "data": {
      "text/plain": [
       "pandas.core.frame.DataFrame"
      ]
     },
     "execution_count": 6,
     "metadata": {},
     "output_type": "execute_result"
    }
   ],
   "source": [
    "import pandas as pd\n",
    "\n",
    "stammdaten = pd.read_json(\"data/customers_database.json\")\n",
    "stammdaten.head(2)\n",
    "type(stammdaten)"
   ]
  },
  {
   "cell_type": "code",
   "execution_count": 7,
   "metadata": {},
   "outputs": [],
   "source": [
    "# wir wollen alle suchen deren first_name mit N anfängt\n",
    "\n",
    "first_name_n = stammdaten[stammdaten[\"first_name\"].str.startswith(\"N\")]     \n",
    "# nach =\n",
    "# Quelle ist stammdaten\n",
    "# [stammdaten[]] - es wird auf das element \"first_name\" zugegriffen\n",
    "# .str - das zum Objekt string geändert wird und\n",
    "# wenden .startswith suchfunktion an\n",
    "# mit dem Argument \"N\"\n"
   ]
  },
  {
   "cell_type": "code",
   "execution_count": null,
   "metadata": {},
   "outputs": [
    {
     "ename": "NameError",
     "evalue": "name 'search' is not defined",
     "output_type": "error",
     "traceback": [
      "\u001b[1;31m---------------------------------------------------------------------------\u001b[0m",
      "\u001b[1;31mNameError\u001b[0m                                 Traceback (most recent call last)",
      "Cell \u001b[1;32mIn[8], line 6\u001b[0m\n\u001b[0;32m      3\u001b[0m \u001b[38;5;28;01mdef\u001b[39;00m\u001b[38;5;250m \u001b[39m\u001b[38;5;21msearch_str\u001b[39m(key, value):\n\u001b[0;32m      4\u001b[0m     \u001b[38;5;28;01mreturn\u001b[39;00m stammdaten[stammdaten[key]\u001b[38;5;241m.\u001b[39mstr\u001b[38;5;241m.\u001b[39mstartswith(value)]\n\u001b[1;32m----> 6\u001b[0m result_str \u001b[38;5;241m=\u001b[39m \u001b[43msearch\u001b[49m(\u001b[38;5;124m\"\u001b[39m\u001b[38;5;124mcountry\u001b[39m\u001b[38;5;124m\"\u001b[39m, \u001b[38;5;124m\"\u001b[39m\u001b[38;5;124mC\u001b[39m\u001b[38;5;124m\"\u001b[39m)\n",
      "\u001b[1;31mNameError\u001b[0m: name 'search' is not defined"
     ]
    },
    {
     "ename": "",
     "evalue": "",
     "output_type": "error",
     "traceback": [
      "\u001b[1;31mThe Kernel crashed while executing code in the current cell or a previous cell. \n",
      "\u001b[1;31mPlease review the code in the cell(s) to identify a possible cause of the failure. \n",
      "\u001b[1;31mClick <a href='https://aka.ms/vscodeJupyterKernelCrash'>here</a> for more info. \n",
      "\u001b[1;31mView Jupyter <a href='command:jupyter.viewOutput'>log</a> for further details."
     ]
    }
   ],
   "source": [
    "# erstellen einer generischen Suchabfrage für Text\n",
    "\n",
    "def search_str(key, value):\n",
    "    return stammdaten[stammdaten[key].str.startswith(value)]\n",
    "\n",
    "result_str = search(\"country\", \"C\")"
   ]
  },
  {
   "cell_type": "code",
   "execution_count": null,
   "metadata": {},
   "outputs": [],
   "source": [
    "# erstellen einer generischen Suchabfrage für Zahlen (int und float)\n",
    "\n",
    "def search_number(key, value):\n",
    "    return stammdaten[stammdaten[key]>value]\n",
    "\n",
    "result_number = search_number(\"id\", 459)"
   ]
  },
  {
   "cell_type": "code",
   "execution_count": null,
   "metadata": {},
   "outputs": [],
   "source": [
    "# erstellen einer von bis Suche\n",
    "\n",
    "# die gesamte Bedingung <=value jeweils in klammern fragt einen True ab\n",
    "\n",
    "def search_von_bis(key, von, bis):\n",
    "    return stammdaten[(stammdaten[key] >= von) & (stammdaten[key] <= bis)]   \n",
    "\n",
    "von_bis = search_von_bis(\"id\", 344, 545)"
   ]
  },
  {
   "cell_type": "code",
   "execution_count": null,
   "metadata": {},
   "outputs": [
    {
     "ename": "NameError",
     "evalue": "name 'stammdaten' is not defined",
     "output_type": "error",
     "traceback": [
      "\u001b[1;31m---------------------------------------------------------------------------\u001b[0m",
      "\u001b[1;31mNameError\u001b[0m                                 Traceback (most recent call last)",
      "Cell \u001b[1;32mIn[1], line 18\u001b[0m\n\u001b[0;32m     14\u001b[0m         \u001b[38;5;28;01mreturn\u001b[39;00m stammdaten[(stammdaten[key] \u001b[38;5;241m>\u001b[39m\u001b[38;5;241m=\u001b[39m von) \u001b[38;5;241m&\u001b[39m (stammdaten[key] \u001b[38;5;241m<\u001b[39m\u001b[38;5;241m=\u001b[39m bis)]   \n\u001b[0;32m     16\u001b[0m finder \u001b[38;5;241m=\u001b[39m CustomerFinder()\n\u001b[1;32m---> 18\u001b[0m result_number \u001b[38;5;241m=\u001b[39m \u001b[43mfinder\u001b[49m\u001b[38;5;241;43m.\u001b[39;49m\u001b[43msearch_number\u001b[49m\u001b[43m(\u001b[49m\u001b[38;5;124;43m\"\u001b[39;49m\u001b[38;5;124;43mid\u001b[39;49m\u001b[38;5;124;43m\"\u001b[39;49m\u001b[43m,\u001b[49m\u001b[43m \u001b[49m\u001b[38;5;241;43m995\u001b[39;49m\u001b[43m)\u001b[49m\n",
      "Cell \u001b[1;32mIn[1], line 11\u001b[0m, in \u001b[0;36mCustomerFinder.search_number\u001b[1;34m(self, key, value)\u001b[0m\n\u001b[0;32m     10\u001b[0m \u001b[38;5;28;01mdef\u001b[39;00m\u001b[38;5;250m \u001b[39m\u001b[38;5;21msearch_number\u001b[39m(\u001b[38;5;28mself\u001b[39m, key, value):\n\u001b[1;32m---> 11\u001b[0m     \u001b[38;5;28;01mreturn\u001b[39;00m \u001b[43mstammdaten\u001b[49m[stammdaten[key]\u001b[38;5;241m>\u001b[39mvalue]\n",
      "\u001b[1;31mNameError\u001b[0m: name 'stammdaten' is not defined"
     ]
    },
    {
     "ename": "",
     "evalue": "",
     "output_type": "error",
     "traceback": [
      "\u001b[1;31mThe Kernel crashed while executing code in the current cell or a previous cell. \n",
      "\u001b[1;31mPlease review the code in the cell(s) to identify a possible cause of the failure. \n",
      "\u001b[1;31mClick <a href='https://aka.ms/vscodeJupyterKernelCrash'>here</a> for more info. \n",
      "\u001b[1;31mView Jupyter <a href='command:jupyter.viewOutput'>log</a> for further details."
     ]
    }
   ],
   "source": [
    "# Erstellen einer Klasse für die Suche um die Weiterverwendung zu vereinfachen\n",
    "\n",
    "# self ist eine etablierter Begriff in python, der ein externes Objekt welches einer neuen Klasse zugeführt wird,\n",
    "# zu einer Instanz/Objekt in der Klasse macht.\n",
    "\n",
    "class CustomerFinder:\n",
    "    def search_str(self, key, value):\n",
    "        return stammdaten[stammdaten[key].str.startswith(value)]\n",
    "\n",
    "    def search_number(self, key, value):\n",
    "        return stammdaten[stammdaten[key]>value]\n",
    "    \n",
    "    def search_von_bis(self, key, von, bis):\n",
    "        return stammdaten[(stammdaten[key] >= von) & (stammdaten[key] <= bis)]   \n",
    "\n",
    "finder = CustomerFinder()\n",
    "\n",
    "result_number = finder.search_number(\"id\", 995)"
   ]
  },
  {
   "cell_type": "code",
   "execution_count": null,
   "metadata": {},
   "outputs": [],
   "source": []
  }
 ],
 "metadata": {
  "kernelspec": {
   "display_name": "base",
   "language": "python",
   "name": "python3"
  },
  "language_info": {
   "codemirror_mode": {
    "name": "ipython",
    "version": 3
   },
   "file_extension": ".py",
   "mimetype": "text/x-python",
   "name": "python",
   "nbconvert_exporter": "python",
   "pygments_lexer": "ipython3",
   "version": "3.11.4"
  }
 },
 "nbformat": 4,
 "nbformat_minor": 2
}
