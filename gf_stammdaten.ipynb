{
 "cells": [
  {
   "cell_type": "markdown",
   "metadata": {},
   "source": [
    "## Pseudocode Stammdaten\n",
    "\n",
    "definition von\n",
    "Vorname\n",
    "Nachname\n",
    "... (Stammdaten: siehe Daten download)\n",
    "\n",
    "### Was brauchen wir um diese Dinge anzulegen/zu coden?\n",
    "\n",
    "- Kundenliste (gefiltert z.B. nach PLZ)\n",
    "- Suche nach z.B. einzelenes Mitglied\n",
    "- neu anlegen von Datensätzen (Mitgliedern)\n",
    "- ändern bestehender Datensätze\n",
    "- löschen bestehener Datensätze\n",
    "\n",
    "\n",
    "\n"
   ]
  },
  {
   "cell_type": "code",
   "execution_count": 21,
   "metadata": {},
   "outputs": [
    {
     "data": {
      "text/plain": [
       "pandas.core.frame.DataFrame"
      ]
     },
     "execution_count": 21,
     "metadata": {},
     "output_type": "execute_result"
    }
   ],
   "source": [
    "import pandas as pd\n",
    "\n",
    "stammdaten = pd.read_json(\"data/customers_database.json\")\n",
    "stammdaten.head(2)\n",
    "type(stammdaten)"
   ]
  },
  {
   "cell_type": "code",
   "execution_count": 27,
   "metadata": {},
   "outputs": [],
   "source": [
    "# wir wollen alle suchen deren first_name mit N anfängt\n",
    "\n",
    "first_name_n = stammdaten[stammdaten[\"first_name\"].str.startswith(\"N\")]     \n",
    "# nach =\n",
    "# Quelle ist stammdaten\n",
    "# [stammdaten[]] - es wird auf das element \"first_name\" zugegriffen\n",
    "# .str - das zum Objekt string geändert wird und\n",
    "# wenden .startswith suchfunktion an\n",
    "# mit dem Argument \"N\"\n"
   ]
  },
  {
   "cell_type": "code",
   "execution_count": null,
   "metadata": {},
   "outputs": [],
   "source": [
    "# erstellen einer generischen Suchabfrage für Text\n",
    "\n",
    "def search_str(key, value):\n",
    "    return stammdaten[stammdaten[key].str.startswith(value)]\n",
    "\n",
    "result_str = search(\"country\", \"C\")"
   ]
  },
  {
   "cell_type": "code",
   "execution_count": 35,
   "metadata": {},
   "outputs": [],
   "source": [
    "# erstellen einer generischen Suchabfrage für Zahlen (int und float)\n",
    "\n",
    "def search_number(key, value):\n",
    "    return stammdaten[stammdaten[key]>value]\n",
    "\n",
    "result_number = search_number(\"id\", 459)"
   ]
  },
  {
   "cell_type": "code",
   "execution_count": 46,
   "metadata": {},
   "outputs": [],
   "source": [
    "# erstellen einer von bis Suche\n",
    "\n",
    "# die gesamte Bedingung <=value jeweils in klammern fragt einen True ab\n",
    "\n",
    "def search_von_bis(key, von, bis):\n",
    "    return stammdaten[(stammdaten[key] >= von) & (stammdaten[key] <= bis)]   \n",
    "\n",
    "von_bis = search_von_bis(\"id\", 344, 545)"
   ]
  },
  {
   "cell_type": "code",
   "execution_count": null,
   "metadata": {},
   "outputs": [],
   "source": [
    "# Erstellen einer Klasse für die Suche um die Weiterverwendung zu vereinfachen\n",
    "\n",
    "# self ist eine etablierter Begriff in python, der ein externes Objekt welches einer neuen Klasse zugeführt wird,\n",
    "# zu einer Instanz/Objekt in der Klasse macht.\n",
    "\n",
    "class CustomerFinder:\n",
    "    def search_str(self, key, value):\n",
    "        return stammdaten[stammdaten[key].str.startswith(value)]\n",
    "\n",
    "    def search_number(self, key, value):\n",
    "        return stammdaten[stammdaten[key]>value]\n",
    "    \n",
    "    def search_von_bis(self, key, von, bis):\n",
    "        return stammdaten[(stammdaten[key] >= von) & (stammdaten[key] <= bis)]   \n",
    "\n",
    "finder = CustomerFinder()\n",
    "\n",
    "result_number = finder.search_number(\"id\", 995)"
   ]
  },
  {
   "cell_type": "code",
   "execution_count": null,
   "metadata": {},
   "outputs": [],
   "source": []
  }
 ],
 "metadata": {
  "kernelspec": {
   "display_name": "Python 3",
   "language": "python",
   "name": "python3"
  },
  "language_info": {
   "codemirror_mode": {
    "name": "ipython",
    "version": 3
   },
   "file_extension": ".py",
   "mimetype": "text/x-python",
   "name": "python",
   "nbconvert_exporter": "python",
   "pygments_lexer": "ipython3",
   "version": "3.13.1"
  }
 },
 "nbformat": 4,
 "nbformat_minor": 2
}
